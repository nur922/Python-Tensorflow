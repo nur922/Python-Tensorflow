{
 "cells": [
  {
   "cell_type": "code",
   "execution_count": 1,
   "id": "1e306087",
   "metadata": {},
   "outputs": [],
   "source": [
    "import numpy as np \n",
    "import pandas as pd\n",
    "import seaborn as sbn\n",
    "import matplotlib.pyplot as plt\n",
    "%matplotlib inline"
   ]
  },
  {
   "cell_type": "code",
   "execution_count": 72,
   "id": "42acfcbc",
   "metadata": {},
   "outputs": [],
   "source": [
    "df=pd.read_csv(\"Real estate.csv\")"
   ]
  },
  {
   "cell_type": "code",
   "execution_count": 73,
   "id": "882b1a7e",
   "metadata": {},
   "outputs": [
    {
     "data": {
      "text/html": [
       "<div>\n",
       "<style scoped>\n",
       "    .dataframe tbody tr th:only-of-type {\n",
       "        vertical-align: middle;\n",
       "    }\n",
       "\n",
       "    .dataframe tbody tr th {\n",
       "        vertical-align: top;\n",
       "    }\n",
       "\n",
       "    .dataframe thead th {\n",
       "        text-align: right;\n",
       "    }\n",
       "</style>\n",
       "<table border=\"1\" class=\"dataframe\">\n",
       "  <thead>\n",
       "    <tr style=\"text-align: right;\">\n",
       "      <th></th>\n",
       "      <th>No</th>\n",
       "      <th>X1 transaction date</th>\n",
       "      <th>X2 house age</th>\n",
       "      <th>X3 distance to the nearest MRT station</th>\n",
       "      <th>X4 number of convenience stores</th>\n",
       "      <th>X5 latitude</th>\n",
       "      <th>X6 longitude</th>\n",
       "      <th>Y house price of unit area</th>\n",
       "    </tr>\n",
       "  </thead>\n",
       "  <tbody>\n",
       "    <tr>\n",
       "      <th>0</th>\n",
       "      <td>1</td>\n",
       "      <td>2012.917</td>\n",
       "      <td>32.0</td>\n",
       "      <td>84.87882</td>\n",
       "      <td>10</td>\n",
       "      <td>24.98298</td>\n",
       "      <td>121.54024</td>\n",
       "      <td>37.9</td>\n",
       "    </tr>\n",
       "    <tr>\n",
       "      <th>1</th>\n",
       "      <td>2</td>\n",
       "      <td>2012.917</td>\n",
       "      <td>19.5</td>\n",
       "      <td>306.59470</td>\n",
       "      <td>9</td>\n",
       "      <td>24.98034</td>\n",
       "      <td>121.53951</td>\n",
       "      <td>42.2</td>\n",
       "    </tr>\n",
       "    <tr>\n",
       "      <th>2</th>\n",
       "      <td>3</td>\n",
       "      <td>2013.583</td>\n",
       "      <td>13.3</td>\n",
       "      <td>561.98450</td>\n",
       "      <td>5</td>\n",
       "      <td>24.98746</td>\n",
       "      <td>121.54391</td>\n",
       "      <td>47.3</td>\n",
       "    </tr>\n",
       "    <tr>\n",
       "      <th>3</th>\n",
       "      <td>4</td>\n",
       "      <td>2013.500</td>\n",
       "      <td>13.3</td>\n",
       "      <td>561.98450</td>\n",
       "      <td>5</td>\n",
       "      <td>24.98746</td>\n",
       "      <td>121.54391</td>\n",
       "      <td>54.8</td>\n",
       "    </tr>\n",
       "    <tr>\n",
       "      <th>4</th>\n",
       "      <td>5</td>\n",
       "      <td>2012.833</td>\n",
       "      <td>5.0</td>\n",
       "      <td>390.56840</td>\n",
       "      <td>5</td>\n",
       "      <td>24.97937</td>\n",
       "      <td>121.54245</td>\n",
       "      <td>43.1</td>\n",
       "    </tr>\n",
       "    <tr>\n",
       "      <th>...</th>\n",
       "      <td>...</td>\n",
       "      <td>...</td>\n",
       "      <td>...</td>\n",
       "      <td>...</td>\n",
       "      <td>...</td>\n",
       "      <td>...</td>\n",
       "      <td>...</td>\n",
       "      <td>...</td>\n",
       "    </tr>\n",
       "    <tr>\n",
       "      <th>409</th>\n",
       "      <td>410</td>\n",
       "      <td>2013.000</td>\n",
       "      <td>13.7</td>\n",
       "      <td>4082.01500</td>\n",
       "      <td>0</td>\n",
       "      <td>24.94155</td>\n",
       "      <td>121.50381</td>\n",
       "      <td>15.4</td>\n",
       "    </tr>\n",
       "    <tr>\n",
       "      <th>410</th>\n",
       "      <td>411</td>\n",
       "      <td>2012.667</td>\n",
       "      <td>5.6</td>\n",
       "      <td>90.45606</td>\n",
       "      <td>9</td>\n",
       "      <td>24.97433</td>\n",
       "      <td>121.54310</td>\n",
       "      <td>50.0</td>\n",
       "    </tr>\n",
       "    <tr>\n",
       "      <th>411</th>\n",
       "      <td>412</td>\n",
       "      <td>2013.250</td>\n",
       "      <td>18.8</td>\n",
       "      <td>390.96960</td>\n",
       "      <td>7</td>\n",
       "      <td>24.97923</td>\n",
       "      <td>121.53986</td>\n",
       "      <td>40.6</td>\n",
       "    </tr>\n",
       "    <tr>\n",
       "      <th>412</th>\n",
       "      <td>413</td>\n",
       "      <td>2013.000</td>\n",
       "      <td>8.1</td>\n",
       "      <td>104.81010</td>\n",
       "      <td>5</td>\n",
       "      <td>24.96674</td>\n",
       "      <td>121.54067</td>\n",
       "      <td>52.5</td>\n",
       "    </tr>\n",
       "    <tr>\n",
       "      <th>413</th>\n",
       "      <td>414</td>\n",
       "      <td>2013.500</td>\n",
       "      <td>6.5</td>\n",
       "      <td>90.45606</td>\n",
       "      <td>9</td>\n",
       "      <td>24.97433</td>\n",
       "      <td>121.54310</td>\n",
       "      <td>63.9</td>\n",
       "    </tr>\n",
       "  </tbody>\n",
       "</table>\n",
       "<p>414 rows × 8 columns</p>\n",
       "</div>"
      ],
      "text/plain": [
       "      No  X1 transaction date  X2 house age  \\\n",
       "0      1             2012.917          32.0   \n",
       "1      2             2012.917          19.5   \n",
       "2      3             2013.583          13.3   \n",
       "3      4             2013.500          13.3   \n",
       "4      5             2012.833           5.0   \n",
       "..   ...                  ...           ...   \n",
       "409  410             2013.000          13.7   \n",
       "410  411             2012.667           5.6   \n",
       "411  412             2013.250          18.8   \n",
       "412  413             2013.000           8.1   \n",
       "413  414             2013.500           6.5   \n",
       "\n",
       "     X3 distance to the nearest MRT station  X4 number of convenience stores  \\\n",
       "0                                  84.87882                               10   \n",
       "1                                 306.59470                                9   \n",
       "2                                 561.98450                                5   \n",
       "3                                 561.98450                                5   \n",
       "4                                 390.56840                                5   \n",
       "..                                      ...                              ...   \n",
       "409                              4082.01500                                0   \n",
       "410                                90.45606                                9   \n",
       "411                               390.96960                                7   \n",
       "412                               104.81010                                5   \n",
       "413                                90.45606                                9   \n",
       "\n",
       "     X5 latitude  X6 longitude  Y house price of unit area  \n",
       "0       24.98298     121.54024                        37.9  \n",
       "1       24.98034     121.53951                        42.2  \n",
       "2       24.98746     121.54391                        47.3  \n",
       "3       24.98746     121.54391                        54.8  \n",
       "4       24.97937     121.54245                        43.1  \n",
       "..           ...           ...                         ...  \n",
       "409     24.94155     121.50381                        15.4  \n",
       "410     24.97433     121.54310                        50.0  \n",
       "411     24.97923     121.53986                        40.6  \n",
       "412     24.96674     121.54067                        52.5  \n",
       "413     24.97433     121.54310                        63.9  \n",
       "\n",
       "[414 rows x 8 columns]"
      ]
     },
     "execution_count": 73,
     "metadata": {},
     "output_type": "execute_result"
    }
   ],
   "source": [
    "df"
   ]
  },
  {
   "cell_type": "code",
   "execution_count": 74,
   "id": "9e8fb12c",
   "metadata": {},
   "outputs": [
    {
     "data": {
      "text/html": [
       "<div>\n",
       "<style scoped>\n",
       "    .dataframe tbody tr th:only-of-type {\n",
       "        vertical-align: middle;\n",
       "    }\n",
       "\n",
       "    .dataframe tbody tr th {\n",
       "        vertical-align: top;\n",
       "    }\n",
       "\n",
       "    .dataframe thead th {\n",
       "        text-align: right;\n",
       "    }\n",
       "</style>\n",
       "<table border=\"1\" class=\"dataframe\">\n",
       "  <thead>\n",
       "    <tr style=\"text-align: right;\">\n",
       "      <th></th>\n",
       "      <th>X1 transaction date</th>\n",
       "      <th>X2 house age</th>\n",
       "      <th>X3 distance to the nearest MRT station</th>\n",
       "      <th>X4 number of convenience stores</th>\n",
       "      <th>X5 latitude</th>\n",
       "      <th>X6 longitude</th>\n",
       "      <th>Y house price of unit area</th>\n",
       "    </tr>\n",
       "  </thead>\n",
       "  <tbody>\n",
       "    <tr>\n",
       "      <th>count</th>\n",
       "      <td>414.000000</td>\n",
       "      <td>414.000000</td>\n",
       "      <td>414.000000</td>\n",
       "      <td>414.000000</td>\n",
       "      <td>414.000000</td>\n",
       "      <td>414.000000</td>\n",
       "      <td>414.000000</td>\n",
       "    </tr>\n",
       "    <tr>\n",
       "      <th>mean</th>\n",
       "      <td>2013.148971</td>\n",
       "      <td>17.712560</td>\n",
       "      <td>1083.885689</td>\n",
       "      <td>4.094203</td>\n",
       "      <td>24.969030</td>\n",
       "      <td>121.533361</td>\n",
       "      <td>37.980193</td>\n",
       "    </tr>\n",
       "    <tr>\n",
       "      <th>std</th>\n",
       "      <td>0.281967</td>\n",
       "      <td>11.392485</td>\n",
       "      <td>1262.109595</td>\n",
       "      <td>2.945562</td>\n",
       "      <td>0.012410</td>\n",
       "      <td>0.015347</td>\n",
       "      <td>13.606488</td>\n",
       "    </tr>\n",
       "    <tr>\n",
       "      <th>min</th>\n",
       "      <td>2012.667000</td>\n",
       "      <td>0.000000</td>\n",
       "      <td>23.382840</td>\n",
       "      <td>0.000000</td>\n",
       "      <td>24.932070</td>\n",
       "      <td>121.473530</td>\n",
       "      <td>7.600000</td>\n",
       "    </tr>\n",
       "    <tr>\n",
       "      <th>25%</th>\n",
       "      <td>2012.917000</td>\n",
       "      <td>9.025000</td>\n",
       "      <td>289.324800</td>\n",
       "      <td>1.000000</td>\n",
       "      <td>24.963000</td>\n",
       "      <td>121.528085</td>\n",
       "      <td>27.700000</td>\n",
       "    </tr>\n",
       "    <tr>\n",
       "      <th>50%</th>\n",
       "      <td>2013.167000</td>\n",
       "      <td>16.100000</td>\n",
       "      <td>492.231300</td>\n",
       "      <td>4.000000</td>\n",
       "      <td>24.971100</td>\n",
       "      <td>121.538630</td>\n",
       "      <td>38.450000</td>\n",
       "    </tr>\n",
       "    <tr>\n",
       "      <th>75%</th>\n",
       "      <td>2013.417000</td>\n",
       "      <td>28.150000</td>\n",
       "      <td>1454.279000</td>\n",
       "      <td>6.000000</td>\n",
       "      <td>24.977455</td>\n",
       "      <td>121.543305</td>\n",
       "      <td>46.600000</td>\n",
       "    </tr>\n",
       "    <tr>\n",
       "      <th>max</th>\n",
       "      <td>2013.583000</td>\n",
       "      <td>43.800000</td>\n",
       "      <td>6488.021000</td>\n",
       "      <td>10.000000</td>\n",
       "      <td>25.014590</td>\n",
       "      <td>121.566270</td>\n",
       "      <td>117.500000</td>\n",
       "    </tr>\n",
       "  </tbody>\n",
       "</table>\n",
       "</div>"
      ],
      "text/plain": [
       "       X1 transaction date  X2 house age  \\\n",
       "count           414.000000    414.000000   \n",
       "mean           2013.148971     17.712560   \n",
       "std               0.281967     11.392485   \n",
       "min            2012.667000      0.000000   \n",
       "25%            2012.917000      9.025000   \n",
       "50%            2013.167000     16.100000   \n",
       "75%            2013.417000     28.150000   \n",
       "max            2013.583000     43.800000   \n",
       "\n",
       "       X3 distance to the nearest MRT station  \\\n",
       "count                              414.000000   \n",
       "mean                              1083.885689   \n",
       "std                               1262.109595   \n",
       "min                                 23.382840   \n",
       "25%                                289.324800   \n",
       "50%                                492.231300   \n",
       "75%                               1454.279000   \n",
       "max                               6488.021000   \n",
       "\n",
       "       X4 number of convenience stores  X5 latitude  X6 longitude  \\\n",
       "count                       414.000000   414.000000    414.000000   \n",
       "mean                          4.094203    24.969030    121.533361   \n",
       "std                           2.945562     0.012410      0.015347   \n",
       "min                           0.000000    24.932070    121.473530   \n",
       "25%                           1.000000    24.963000    121.528085   \n",
       "50%                           4.000000    24.971100    121.538630   \n",
       "75%                           6.000000    24.977455    121.543305   \n",
       "max                          10.000000    25.014590    121.566270   \n",
       "\n",
       "       Y house price of unit area  \n",
       "count                  414.000000  \n",
       "mean                    37.980193  \n",
       "std                     13.606488  \n",
       "min                      7.600000  \n",
       "25%                     27.700000  \n",
       "50%                     38.450000  \n",
       "75%                     46.600000  \n",
       "max                    117.500000  "
      ]
     },
     "execution_count": 74,
     "metadata": {},
     "output_type": "execute_result"
    }
   ],
   "source": [
    "df=df.drop(\"No\",axis=1)\n",
    "df.describe()"
   ]
  },
  {
   "cell_type": "code",
   "execution_count": 23,
   "id": "bc8f24bb",
   "metadata": {},
   "outputs": [
    {
     "name": "stdout",
     "output_type": "stream",
     "text": [
      "<class 'pandas.core.frame.DataFrame'>\n",
      "RangeIndex: 414 entries, 0 to 413\n",
      "Data columns (total 7 columns):\n",
      " #   Column                                  Non-Null Count  Dtype  \n",
      "---  ------                                  --------------  -----  \n",
      " 0   X1 transaction date                     414 non-null    float64\n",
      " 1   X2 house age                            414 non-null    float64\n",
      " 2   X3 distance to the nearest MRT station  414 non-null    float64\n",
      " 3   X4 number of convenience stores         414 non-null    int64  \n",
      " 4   X5 latitude                             414 non-null    float64\n",
      " 5   X6 longitude                            414 non-null    float64\n",
      " 6   Y house price of unit area              414 non-null    float64\n",
      "dtypes: float64(6), int64(1)\n",
      "memory usage: 22.8 KB\n"
     ]
    }
   ],
   "source": [
    "df.info()"
   ]
  },
  {
   "cell_type": "code",
   "execution_count": 24,
   "id": "610d5452",
   "metadata": {},
   "outputs": [
    {
     "data": {
      "text/plain": [
       "X1 transaction date                       0\n",
       "X2 house age                              0\n",
       "X3 distance to the nearest MRT station    0\n",
       "X4 number of convenience stores           0\n",
       "X5 latitude                               0\n",
       "X6 longitude                              0\n",
       "Y house price of unit area                0\n",
       "dtype: int64"
      ]
     },
     "execution_count": 24,
     "metadata": {},
     "output_type": "execute_result"
    }
   ],
   "source": [
    "df.isnull().sum()"
   ]
  },
  {
   "cell_type": "code",
   "execution_count": 25,
   "id": "e537fd66",
   "metadata": {},
   "outputs": [
    {
     "data": {
      "text/plain": [
       "Index(['X1 transaction date', 'X2 house age',\n",
       "       'X3 distance to the nearest MRT station',\n",
       "       'X4 number of convenience stores', 'X5 latitude', 'X6 longitude',\n",
       "       'Y house price of unit area'],\n",
       "      dtype='object')"
      ]
     },
     "execution_count": 25,
     "metadata": {},
     "output_type": "execute_result"
    }
   ],
   "source": [
    "df.columns"
   ]
  },
  {
   "cell_type": "code",
   "execution_count": 26,
   "id": "81027fb6",
   "metadata": {},
   "outputs": [
    {
     "data": {
      "text/plain": [
       "X3 distance to the nearest MRT station   -0.673613\n",
       "X2 house age                             -0.210567\n",
       "X1 transaction date                       0.087491\n",
       "X6 longitude                              0.523287\n",
       "X5 latitude                               0.546307\n",
       "X4 number of convenience stores           0.571005\n",
       "Y house price of unit area                1.000000\n",
       "Name: Y house price of unit area, dtype: float64"
      ]
     },
     "execution_count": 26,
     "metadata": {},
     "output_type": "execute_result"
    }
   ],
   "source": [
    "df.corr()[\"Y house price of unit area\"].sort_values()"
   ]
  },
  {
   "cell_type": "code",
   "execution_count": 27,
   "id": "08d15b5c",
   "metadata": {},
   "outputs": [
    {
     "data": {
      "image/png": "[encoded data removed]",
      "text/plain": [
       "<Figure size 1000x600 with 1 Axes>"
      ]
     },
     "metadata": {},
     "output_type": "display_data"
    }
   ],
   "source": [
    "corr_matrix = df.corr()\n",
    "target_corr = corr_matrix[\"Y house price of unit area\"].sort_values(ascending=False)\n",
    "plt.figure(figsize=(10,6))\n",
    "sbn.barplot(x=target_corr.values, y=target_corr.index)\n",
    "plt.title(\"Korelasyonlar (Y house price of unit area ile)\")\n",
    "plt.xlabel(\"Korelasyon\")\n",
    "plt.ylabel(\"Değişkenler\")\n",
    "plt.grid(True)\n",
    "plt.show()"
   ]
  },
  {
   "cell_type": "code",
   "execution_count": 28,
   "id": "a0634305",
   "metadata": {},
   "outputs": [
    {
     "data": {
      "text/plain": [
       "<AxesSubplot:xlabel='Y house price of unit area', ylabel='X1 transaction date'>"
      ]
     },
     "execution_count": 28,
     "metadata": {},
     "output_type": "execute_result"
    },
    {
     "data": {
      "image/png": "[encoded data removed]",
      "text/plain": [
       "<Figure size 640x480 with 1 Axes>"
      ]
     },
     "metadata": {},
     "output_type": "display_data"
    }
   ],
   "source": [
    "sbn.scatterplot(data=df,x=\"Y house price of unit area\",y=\"X1 transaction date\" )"
   ]
  },
  {
   "cell_type": "code",
   "execution_count": 75,
   "id": "318b0f2b",
   "metadata": {},
   "outputs": [
    {
     "data": {
      "text/html": [
       "<div>\n",
       "<style scoped>\n",
       "    .dataframe tbody tr th:only-of-type {\n",
       "        vertical-align: middle;\n",
       "    }\n",
       "\n",
       "    .dataframe tbody tr th {\n",
       "        vertical-align: top;\n",
       "    }\n",
       "\n",
       "    .dataframe thead th {\n",
       "        text-align: right;\n",
       "    }\n",
       "</style>\n",
       "<table border=\"1\" class=\"dataframe\">\n",
       "  <thead>\n",
       "    <tr style=\"text-align: right;\">\n",
       "      <th></th>\n",
       "      <th>X2 house age</th>\n",
       "      <th>X3 distance to the nearest MRT station</th>\n",
       "      <th>X4 number of convenience stores</th>\n",
       "      <th>X5 latitude</th>\n",
       "      <th>X6 longitude</th>\n",
       "      <th>Y house price of unit area</th>\n",
       "    </tr>\n",
       "  </thead>\n",
       "  <tbody>\n",
       "    <tr>\n",
       "      <th>270</th>\n",
       "      <td>10.8</td>\n",
       "      <td>252.58220</td>\n",
       "      <td>1</td>\n",
       "      <td>24.97460</td>\n",
       "      <td>121.53046</td>\n",
       "      <td>117.5</td>\n",
       "    </tr>\n",
       "    <tr>\n",
       "      <th>220</th>\n",
       "      <td>37.2</td>\n",
       "      <td>186.51010</td>\n",
       "      <td>9</td>\n",
       "      <td>24.97703</td>\n",
       "      <td>121.54265</td>\n",
       "      <td>78.3</td>\n",
       "    </tr>\n",
       "    <tr>\n",
       "      <th>312</th>\n",
       "      <td>35.4</td>\n",
       "      <td>318.52920</td>\n",
       "      <td>9</td>\n",
       "      <td>24.97071</td>\n",
       "      <td>121.54069</td>\n",
       "      <td>78.0</td>\n",
       "    </tr>\n",
       "    <tr>\n",
       "      <th>166</th>\n",
       "      <td>0.0</td>\n",
       "      <td>292.99780</td>\n",
       "      <td>6</td>\n",
       "      <td>24.97744</td>\n",
       "      <td>121.54458</td>\n",
       "      <td>73.6</td>\n",
       "    </tr>\n",
       "    <tr>\n",
       "      <th>105</th>\n",
       "      <td>0.0</td>\n",
       "      <td>292.99780</td>\n",
       "      <td>6</td>\n",
       "      <td>24.97744</td>\n",
       "      <td>121.54458</td>\n",
       "      <td>71.0</td>\n",
       "    </tr>\n",
       "    <tr>\n",
       "      <th>16</th>\n",
       "      <td>0.0</td>\n",
       "      <td>292.99780</td>\n",
       "      <td>6</td>\n",
       "      <td>24.97744</td>\n",
       "      <td>121.54458</td>\n",
       "      <td>70.1</td>\n",
       "    </tr>\n",
       "    <tr>\n",
       "      <th>379</th>\n",
       "      <td>0.0</td>\n",
       "      <td>292.99780</td>\n",
       "      <td>6</td>\n",
       "      <td>24.97744</td>\n",
       "      <td>121.54458</td>\n",
       "      <td>69.7</td>\n",
       "    </tr>\n",
       "    <tr>\n",
       "      <th>389</th>\n",
       "      <td>40.9</td>\n",
       "      <td>122.36190</td>\n",
       "      <td>8</td>\n",
       "      <td>24.96756</td>\n",
       "      <td>121.54230</td>\n",
       "      <td>67.7</td>\n",
       "    </tr>\n",
       "    <tr>\n",
       "      <th>413</th>\n",
       "      <td>6.5</td>\n",
       "      <td>90.45606</td>\n",
       "      <td>9</td>\n",
       "      <td>24.97433</td>\n",
       "      <td>121.54310</td>\n",
       "      <td>63.9</td>\n",
       "    </tr>\n",
       "    <tr>\n",
       "      <th>361</th>\n",
       "      <td>41.4</td>\n",
       "      <td>281.20500</td>\n",
       "      <td>8</td>\n",
       "      <td>24.97345</td>\n",
       "      <td>121.54093</td>\n",
       "      <td>63.3</td>\n",
       "    </tr>\n",
       "  </tbody>\n",
       "</table>\n",
       "</div>"
      ],
      "text/plain": [
       "     X2 house age  X3 distance to the nearest MRT station  \\\n",
       "270          10.8                               252.58220   \n",
       "220          37.2                               186.51010   \n",
       "312          35.4                               318.52920   \n",
       "166           0.0                               292.99780   \n",
       "105           0.0                               292.99780   \n",
       "16            0.0                               292.99780   \n",
       "379           0.0                               292.99780   \n",
       "389          40.9                               122.36190   \n",
       "413           6.5                                90.45606   \n",
       "361          41.4                               281.20500   \n",
       "\n",
       "     X4 number of convenience stores  X5 latitude  X6 longitude  \\\n",
       "270                                1     24.97460     121.53046   \n",
       "220                                9     24.97703     121.54265   \n",
       "312                                9     24.97071     121.54069   \n",
       "166                                6     24.97744     121.54458   \n",
       "105                                6     24.97744     121.54458   \n",
       "16                                 6     24.97744     121.54458   \n",
       "379                                6     24.97744     121.54458   \n",
       "389                                8     24.96756     121.54230   \n",
       "413                                9     24.97433     121.54310   \n",
       "361                                8     24.97345     121.54093   \n",
       "\n",
       "     Y house price of unit area  \n",
       "270                       117.5  \n",
       "220                        78.3  \n",
       "312                        78.0  \n",
       "166                        73.6  \n",
       "105                        71.0  \n",
       "16                         70.1  \n",
       "379                        69.7  \n",
       "389                        67.7  \n",
       "413                        63.9  \n",
       "361                        63.3  "
      ]
     },
     "execution_count": 75,
     "metadata": {},
     "output_type": "execute_result"
    }
   ],
   "source": [
    "df=df.drop(\"X1 transaction date\",axis=1)\n",
    "df.sort_values(\"Y house price of unit area\",ascending=False).head(10)"
   ]
  },
  {
   "cell_type": "code",
   "execution_count": 32,
   "id": "d75d65c1",
   "metadata": {},
   "outputs": [
    {
     "data": {
      "text/plain": [
       "<seaborn.axisgrid.FacetGrid at 0x288a7c72148>"
      ]
     },
     "execution_count": 32,
     "metadata": {},
     "output_type": "execute_result"
    },
    {
     "data": {
      "image/png": "[encoded data removed]",
      "text/plain": [
       "<Figure size 500x500 with 1 Axes>"
      ]
     },
     "metadata": {},
     "output_type": "display_data"
    }
   ],
   "source": [
    "sbn.displot(df[\"Y house price of unit area\"])"
   ]
  },
  {
   "cell_type": "code",
   "execution_count": 33,
   "id": "725fc153",
   "metadata": {},
   "outputs": [
    {
     "data": {
      "text/plain": [
       "414"
      ]
     },
     "execution_count": 33,
     "metadata": {},
     "output_type": "execute_result"
    }
   ],
   "source": [
    "len(df)"
   ]
  },
  {
   "cell_type": "code",
   "execution_count": 76,
   "id": "362b94db",
   "metadata": {},
   "outputs": [
    {
     "data": {
      "text/html": [
       "<div>\n",
       "<style scoped>\n",
       "    .dataframe tbody tr th:only-of-type {\n",
       "        vertical-align: middle;\n",
       "    }\n",
       "\n",
       "    .dataframe tbody tr th {\n",
       "        vertical-align: top;\n",
       "    }\n",
       "\n",
       "    .dataframe thead th {\n",
       "        text-align: right;\n",
       "    }\n",
       "</style>\n",
       "<table border=\"1\" class=\"dataframe\">\n",
       "  <thead>\n",
       "    <tr style=\"text-align: right;\">\n",
       "      <th></th>\n",
       "      <th>X2 house age</th>\n",
       "      <th>X3 distance to the nearest MRT station</th>\n",
       "      <th>X4 number of convenience stores</th>\n",
       "      <th>X5 latitude</th>\n",
       "      <th>X6 longitude</th>\n",
       "      <th>Y house price of unit area</th>\n",
       "    </tr>\n",
       "  </thead>\n",
       "  <tbody>\n",
       "    <tr>\n",
       "      <th>105</th>\n",
       "      <td>0.0</td>\n",
       "      <td>292.99780</td>\n",
       "      <td>6</td>\n",
       "      <td>24.97744</td>\n",
       "      <td>121.54458</td>\n",
       "      <td>71.0</td>\n",
       "    </tr>\n",
       "    <tr>\n",
       "      <th>16</th>\n",
       "      <td>0.0</td>\n",
       "      <td>292.99780</td>\n",
       "      <td>6</td>\n",
       "      <td>24.97744</td>\n",
       "      <td>121.54458</td>\n",
       "      <td>70.1</td>\n",
       "    </tr>\n",
       "    <tr>\n",
       "      <th>379</th>\n",
       "      <td>0.0</td>\n",
       "      <td>292.99780</td>\n",
       "      <td>6</td>\n",
       "      <td>24.97744</td>\n",
       "      <td>121.54458</td>\n",
       "      <td>69.7</td>\n",
       "    </tr>\n",
       "    <tr>\n",
       "      <th>389</th>\n",
       "      <td>40.9</td>\n",
       "      <td>122.36190</td>\n",
       "      <td>8</td>\n",
       "      <td>24.96756</td>\n",
       "      <td>121.54230</td>\n",
       "      <td>67.7</td>\n",
       "    </tr>\n",
       "    <tr>\n",
       "      <th>413</th>\n",
       "      <td>6.5</td>\n",
       "      <td>90.45606</td>\n",
       "      <td>9</td>\n",
       "      <td>24.97433</td>\n",
       "      <td>121.54310</td>\n",
       "      <td>63.9</td>\n",
       "    </tr>\n",
       "    <tr>\n",
       "      <th>...</th>\n",
       "      <td>...</td>\n",
       "      <td>...</td>\n",
       "      <td>...</td>\n",
       "      <td>...</td>\n",
       "      <td>...</td>\n",
       "      <td>...</td>\n",
       "    </tr>\n",
       "    <tr>\n",
       "      <th>226</th>\n",
       "      <td>16.5</td>\n",
       "      <td>4082.01500</td>\n",
       "      <td>0</td>\n",
       "      <td>24.94155</td>\n",
       "      <td>121.50381</td>\n",
       "      <td>12.8</td>\n",
       "    </tr>\n",
       "    <tr>\n",
       "      <th>116</th>\n",
       "      <td>30.9</td>\n",
       "      <td>6396.28300</td>\n",
       "      <td>1</td>\n",
       "      <td>24.94375</td>\n",
       "      <td>121.47883</td>\n",
       "      <td>12.2</td>\n",
       "    </tr>\n",
       "    <tr>\n",
       "      <th>162</th>\n",
       "      <td>16.0</td>\n",
       "      <td>4066.58700</td>\n",
       "      <td>0</td>\n",
       "      <td>24.94297</td>\n",
       "      <td>121.50342</td>\n",
       "      <td>11.6</td>\n",
       "    </tr>\n",
       "    <tr>\n",
       "      <th>347</th>\n",
       "      <td>17.4</td>\n",
       "      <td>6488.02100</td>\n",
       "      <td>1</td>\n",
       "      <td>24.95719</td>\n",
       "      <td>121.47353</td>\n",
       "      <td>11.2</td>\n",
       "    </tr>\n",
       "    <tr>\n",
       "      <th>113</th>\n",
       "      <td>14.8</td>\n",
       "      <td>393.26060</td>\n",
       "      <td>6</td>\n",
       "      <td>24.96172</td>\n",
       "      <td>121.53812</td>\n",
       "      <td>7.6</td>\n",
       "    </tr>\n",
       "  </tbody>\n",
       "</table>\n",
       "<p>410 rows × 6 columns</p>\n",
       "</div>"
      ],
      "text/plain": [
       "     X2 house age  X3 distance to the nearest MRT station  \\\n",
       "105           0.0                               292.99780   \n",
       "16            0.0                               292.99780   \n",
       "379           0.0                               292.99780   \n",
       "389          40.9                               122.36190   \n",
       "413           6.5                                90.45606   \n",
       "..            ...                                     ...   \n",
       "226          16.5                              4082.01500   \n",
       "116          30.9                              6396.28300   \n",
       "162          16.0                              4066.58700   \n",
       "347          17.4                              6488.02100   \n",
       "113          14.8                               393.26060   \n",
       "\n",
       "     X4 number of convenience stores  X5 latitude  X6 longitude  \\\n",
       "105                                6     24.97744     121.54458   \n",
       "16                                 6     24.97744     121.54458   \n",
       "379                                6     24.97744     121.54458   \n",
       "389                                8     24.96756     121.54230   \n",
       "413                                9     24.97433     121.54310   \n",
       "..                               ...          ...           ...   \n",
       "226                                0     24.94155     121.50381   \n",
       "116                                1     24.94375     121.47883   \n",
       "162                                0     24.94297     121.50342   \n",
       "347                                1     24.95719     121.47353   \n",
       "113                                6     24.96172     121.53812   \n",
       "\n",
       "     Y house price of unit area  \n",
       "105                        71.0  \n",
       "16                         70.1  \n",
       "379                        69.7  \n",
       "389                        67.7  \n",
       "413                        63.9  \n",
       "..                          ...  \n",
       "226                        12.8  \n",
       "116                        12.2  \n",
       "162                        11.6  \n",
       "347                        11.2  \n",
       "113                         7.6  \n",
       "\n",
       "[410 rows x 6 columns]"
      ]
     },
     "execution_count": 76,
     "metadata": {},
     "output_type": "execute_result"
    }
   ],
   "source": [
    "df=df.sort_values(\"Y house price of unit area\",ascending=False).iloc[4:]\n",
    "df"
   ]
  },
  {
   "cell_type": "code",
   "execution_count": 46,
   "id": "80c1c2de",
   "metadata": {},
   "outputs": [],
   "source": [
    "y=df[\"Y house price of unit area\"].values"
   ]
  },
  {
   "cell_type": "code",
   "execution_count": 47,
   "id": "9ccd95f9",
   "metadata": {},
   "outputs": [],
   "source": [
    "x=df.drop(\"Y house price of unit area\",axis=1).values"
   ]
  },
  {
   "cell_type": "code",
   "execution_count": 48,
   "id": "b4960dda",
   "metadata": {},
   "outputs": [
    {
     "data": {
      "text/plain": [
       "(410, 5)"
      ]
     },
     "execution_count": 48,
     "metadata": {},
     "output_type": "execute_result"
    }
   ],
   "source": [
    "x.shape"
   ]
  },
  {
   "cell_type": "code",
   "execution_count": 49,
   "id": "c8b583b4",
   "metadata": {},
   "outputs": [
    {
     "data": {
      "text/plain": [
       "(410,)"
      ]
     },
     "execution_count": 49,
     "metadata": {},
     "output_type": "execute_result"
    }
   ],
   "source": [
    "y.shape"
   ]
  },
  {
   "cell_type": "code",
   "execution_count": 50,
   "id": "eca0f6d8",
   "metadata": {},
   "outputs": [],
   "source": [
    "from sklearn.model_selection import train_test_split"
   ]
  },
  {
   "cell_type": "code",
   "execution_count": 51,
   "id": "c4f8529f",
   "metadata": {},
   "outputs": [],
   "source": [
    "x_train ,x_test,y_train,y_test=train_test_split(x,y, test_size=0.33 , random_state=42 )"
   ]
  },
  {
   "cell_type": "code",
   "execution_count": 52,
   "id": "f8d954f0",
   "metadata": {},
   "outputs": [
    {
     "data": {
      "text/plain": [
       "(136, 5)"
      ]
     },
     "execution_count": 52,
     "metadata": {},
     "output_type": "execute_result"
    }
   ],
   "source": [
    "x_test.shape"
   ]
  },
  {
   "cell_type": "code",
   "execution_count": 53,
   "id": "537ee258",
   "metadata": {},
   "outputs": [
    {
     "data": {
      "text/plain": [
       "(274, 5)"
      ]
     },
     "execution_count": 53,
     "metadata": {},
     "output_type": "execute_result"
    }
   ],
   "source": [
    "x_train.shape"
   ]
  },
  {
   "cell_type": "code",
   "execution_count": 54,
   "id": "f4296ee1",
   "metadata": {},
   "outputs": [],
   "source": [
    "from sklearn.preprocessing import MinMaxScaler"
   ]
  },
  {
   "cell_type": "code",
   "execution_count": 55,
   "id": "0acd012c",
   "metadata": {},
   "outputs": [],
   "source": [
    "scaler=MinMaxScaler()"
   ]
  },
  {
   "cell_type": "code",
   "execution_count": 56,
   "id": "cf7b06be",
   "metadata": {},
   "outputs": [],
   "source": [
    "x_train=scaler.fit_transform(x_train)"
   ]
  },
  {
   "cell_type": "code",
   "execution_count": 57,
   "id": "98bc02cf",
   "metadata": {},
   "outputs": [],
   "source": [
    "x_test=scaler.fit_transform(x_test)"
   ]
  },
  {
   "cell_type": "code",
   "execution_count": 58,
   "id": "2532af9f",
   "metadata": {},
   "outputs": [
    {
     "data": {
      "text/plain": [
       "array([[0.37442922, 0.05359715, 0.6       , 0.30900876, 0.741631  ],\n",
       "       [1.        , 0.00124923, 0.7       , 0.35528478, 0.71924048],\n",
       "       [0.31050228, 0.0697332 , 0.5       , 0.32311062, 0.68280101],\n",
       "       [0.17808219, 0.00868951, 0.5       , 0.34487952, 0.71902096],\n",
       "       [0.12328767, 0.05371477, 0.5       , 0.51779847, 0.73855779],\n",
       "       [0.        , 0.02139225, 0.        , 0.40457284, 0.62056854],\n",
       "       [0.72374429, 0.8606747 , 0.1       , 0.1286966 , 0.1033915 ],\n",
       "       [0.52511416, 0.01281523, 0.6       , 0.20646221, 0.68587422],\n",
       "       [0.3173516 , 0.63494517, 0.        , 1.        , 0.47195698],\n",
       "       [0.70319635, 0.05170224, 0.6       , 0.31106243, 0.70771595],\n",
       "       [0.20776256, 0.21308264, 0.        , 0.6043264 , 0.57556799],\n",
       "       [0.28995434, 0.01898141, 0.1       , 0.44030668, 0.60015366],\n",
       "       [0.39497717, 0.34849578, 0.4       , 0.27751917, 0.40676106],\n",
       "       [0.12785388, 0.3717461 , 0.        , 0.18483023, 0.92723082],\n",
       "       [0.08447489, 0.0832412 , 0.6       , 0.41703176, 0.79091208],\n",
       "       [0.30365297, 0.0807238 , 0.5       , 0.62855969, 0.75458237],\n",
       "       [0.33333333, 0.04562551, 0.1       , 0.46056955, 0.61848315],\n",
       "       [0.8173516 , 0.0190763 , 0.7       , 0.35104053, 0.74119197],\n",
       "       [0.14611872, 0.00642783, 0.9       , 0.44879518, 0.74569202],\n",
       "       [0.69863014, 0.06010289, 1.        , 0.54326396, 0.68345955],\n",
       "       [0.38584475, 0.63292346, 0.        , 0.0194414 , 0.31017451],\n",
       "       [0.11643836, 0.28638415, 0.2       , 0.58214677, 0.46449347],\n",
       "       [0.19406393, 0.00868951, 0.5       , 0.34487952, 0.71902096],\n",
       "       [0.22146119, 0.05858517, 0.5       , 0.56010405, 0.76402151],\n",
       "       [0.87442922, 0.0614578 , 0.        , 0.41155531, 0.64833717],\n",
       "       [0.1826484 , 0.00868951, 0.5       , 0.34487952, 0.71902096],\n",
       "       [0.34246575, 0.2802527 , 0.2       , 0.31612815, 0.44067611],\n",
       "       [0.26484018, 0.05371477, 0.5       , 0.51779847, 0.73855779],\n",
       "       [0.89497717, 0.05909477, 0.7       , 0.44824754, 0.70255735],\n",
       "       [0.75799087, 0.01135488, 1.        , 0.55079409, 0.7181429 ],\n",
       "       [0.72374429, 0.17486357, 0.        , 0.11021358, 0.60388541],\n",
       "       [0.73059361, 0.00554906, 1.        , 0.56722344, 0.71430139],\n",
       "       [0.29908676, 0.17249727, 0.4       , 0.68743154, 0.65195917],\n",
       "       [0.37899543, 0.03776241, 0.5       , 0.55421687, 0.7498628 ],\n",
       "       [0.87899543, 0.09696537, 0.3       , 0.45837897, 0.67786193],\n",
       "       [0.        , 0.03834114, 0.6       , 0.49137459, 0.76193612],\n",
       "       [0.23515982, 0.4774554 , 0.        , 0.17866922, 1.        ],\n",
       "       [0.87442922, 0.09344143, 0.3       , 0.466046  , 0.68016683],\n",
       "       [0.05251142, 0.02121903, 0.6       , 0.33214677, 0.72110635],\n",
       "       [0.2716895 , 0.20648433, 0.1       , 0.14361993, 0.80408298],\n",
       "       [0.31050228, 0.0697332 , 0.5       , 0.32311062, 0.68280101],\n",
       "       [0.63013699, 0.07333841, 0.5       , 0.29353779, 0.74678959],\n",
       "       [0.29452055, 0.02171569, 0.1       , 0.44263417, 0.59982439],\n",
       "       [0.54794521, 0.70557629, 0.        , 0.08023001, 0.2318077 ],\n",
       "       [0.02511416, 0.04416738, 0.5       , 0.56119934, 0.7550214 ],\n",
       "       [0.37442922, 0.2511317 , 0.2       , 0.16963308, 0.84052245],\n",
       "       [0.39954338, 0.05451934, 0.5       , 0.20796824, 0.64581275],\n",
       "       [0.4109589 , 0.98579874, 0.1       , 0.21741512, 0.        ],\n",
       "       [0.06164384, 0.07623192, 0.4       , 0.45043812, 0.79563165],\n",
       "       [0.09360731, 0.33052464, 0.3       , 0.29353779, 0.41356602],\n",
       "       [0.16210046, 0.05197985, 1.        , 0.57338445, 0.68554495],\n",
       "       [0.02511416, 0.02267717, 0.6       , 0.33077766, 0.72143563],\n",
       "       [0.43835616, 0.05263459, 0.8       , 0.41689485, 0.76402151],\n",
       "       [0.19406393, 0.00868951, 0.5       , 0.34487952, 0.71902096],\n",
       "       [0.76027397, 0.02315502, 0.7       , 0.4854874 , 0.73625288],\n",
       "       [0.28538813, 0.0807238 , 0.5       , 0.62855969, 0.75458237],\n",
       "       [0.87899543, 0.02634029, 0.7       , 0.53819825, 0.72944792],\n",
       "       [0.41552511, 0.33560041, 0.3       , 0.29353779, 0.41005378],\n",
       "       [0.07990868, 0.        , 0.8       , 0.23014786, 0.6848864 ],\n",
       "       [0.62328767, 0.0453691 , 0.6       , 0.31161008, 0.71858193],\n",
       "       [0.32191781, 0.03776241, 0.5       , 0.55421687, 0.7498628 ],\n",
       "       [0.37671233, 0.63535436, 0.        , 0.        , 0.31445505],\n",
       "       [0.76484018, 0.30394278, 0.2       , 0.61870208, 0.47503018],\n",
       "       [0.02511416, 0.02267717, 0.6       , 0.33077766, 0.72143563],\n",
       "       [0.7283105 , 0.17279554, 0.        , 0.10473713, 0.61025134],\n",
       "       [0.36757991, 0.03776241, 0.5       , 0.55421687, 0.7498628 ],\n",
       "       [0.39269406, 0.05371477, 0.5       , 0.51779847, 0.73855779],\n",
       "       [0.16210046, 0.06327504, 0.5       , 0.46659365, 0.78783888],\n",
       "       [0.15068493, 0.00642783, 0.9       , 0.44879518, 0.74569202],\n",
       "       [0.14840183, 0.05144624, 0.6       , 0.17291895, 0.68016683],\n",
       "       [0.31506849, 0.63535436, 0.        , 0.        , 0.31445505],\n",
       "       [0.68721461, 0.10535253, 0.3       , 0.45920044, 0.67259357],\n",
       "       [0.0456621 , 0.22155675, 0.1       , 0.13211939, 0.81044891],\n",
       "       [0.58447489, 0.70431625, 0.        , 0.09186747, 0.22730765],\n",
       "       [0.4109589 , 0.05100866, 0.8       , 0.61678532, 0.72066733],\n",
       "       [0.38127854, 0.63535436, 0.        , 0.        , 0.31445505],\n",
       "       [0.42009132, 0.41365312, 0.3       , 0.27217963, 0.36340687],\n",
       "       [0.30365297, 0.03166566, 0.7       , 0.33556955, 0.74426517],\n",
       "       [0.94520548, 0.03648302, 0.8       , 0.43674699, 0.72187466],\n",
       "       [0.07990868, 0.00107352, 0.7       , 0.21755203, 0.67994732],\n",
       "       [0.39269406, 0.02203646, 0.8       , 0.48630887, 0.74547251],\n",
       "       [0.0913242 , 0.33052464, 0.3       , 0.29353779, 0.41356602],\n",
       "       [0.        , 0.02139225, 0.        , 0.40457284, 0.62056854],\n",
       "       [0.70776256, 0.17438426, 0.        , 0.10062979, 0.61233674],\n",
       "       [0.30136986, 0.17571189, 0.4       , 0.68469332, 0.6464713 ],\n",
       "       [0.42922374, 0.05377799, 0.7       , 0.51588171, 0.71013061],\n",
       "       [0.93378995, 0.01145505, 0.8       , 0.35610624, 0.73691143],\n",
       "       [0.08219178, 0.05265815, 0.5       , 0.53806134, 0.75458237],\n",
       "       [0.70547945, 1.        , 0.1       , 0.03012048, 0.04028098],\n",
       "       [0.67123288, 0.70284602, 0.1       , 0.10542169, 0.22236857],\n",
       "       [0.26940639, 0.07623192, 0.4       , 0.45043812, 0.79563165],\n",
       "       [0.37442922, 0.03776241, 0.5       , 0.55421687, 0.7498628 ],\n",
       "       [0.31050228, 0.63535436, 0.        , 0.        , 0.31445505],\n",
       "       [0.47031963, 0.10844431, 0.2       , 0.53901972, 0.79277796],\n",
       "       [0.02511416, 0.02267717, 0.6       , 0.33077766, 0.72143563],\n",
       "       [0.043379  , 0.0508109 , 0.7       , 0.4296276 , 0.71452091],\n",
       "       [0.0913242 , 0.33052464, 0.3       , 0.29353779, 0.41356602],\n",
       "       [0.07305936, 0.06936305, 0.8       , 0.39184009, 0.76588739],\n",
       "       [0.50684932, 0.05197985, 1.        , 0.57338445, 0.68554495],\n",
       "       [0.86073059, 0.06943592, 0.        , 0.41922234, 0.65360553],\n",
       "       [0.20547945, 0.21308264, 0.        , 0.6043264 , 0.57556799],\n",
       "       [0.43607306, 0.06482827, 0.5       , 0.17387733, 0.71056964],\n",
       "       [0.70091324, 0.19145129, 0.        , 0.09967141, 0.59686094],\n",
       "       [0.33561644, 0.26274323, 0.2       , 0.31380066, 0.45362748],\n",
       "       [0.40182648, 0.27668324, 0.2       , 0.61842826, 0.50214027],\n",
       "       [0.02511416, 0.02267717, 0.6       , 0.33077766, 0.72143563],\n",
       "       [0.09817352, 0.06024897, 0.7       , 0.53326944, 0.68730106],\n",
       "       [0.        , 0.04558438, 0.9       , 0.36938664, 0.75699704],\n",
       "       [0.14611872, 0.00642783, 0.9       , 0.44879518, 0.74569202],\n",
       "       [0.81506849, 0.08343765, 0.2       , 0.55928258, 0.77960707],\n",
       "       [0.75342466, 0.02070638, 0.9       , 0.48493976, 0.74042366],\n",
       "       [0.12100457, 0.03308841, 0.6       , 0.4696057 , 0.76830205],\n",
       "       [0.14383562, 0.00642783, 0.9       , 0.44879518, 0.74569202],\n",
       "       [0.29452055, 0.0697332 , 0.5       , 0.32311062, 0.68280101],\n",
       "       [0.43150685, 0.15119444, 0.        , 0.30147864, 0.81604654],\n",
       "       [0.43378995, 0.15119444, 0.        , 0.30147864, 0.81604654],\n",
       "       [0.11187215, 0.05327418, 0.9       , 0.54257941, 0.68839864],\n",
       "       [0.73059361, 0.17444177, 0.        , 0.1067908 , 0.60695862],\n",
       "       [0.40410959, 0.06333777, 0.8       , 0.38198248, 0.76544836],\n",
       "       [0.36986301, 0.63420745, 0.        , 0.0109529 , 0.31182088],\n",
       "       [0.48401826, 0.336473  , 0.3       , 0.29668675, 0.40840742],\n",
       "       [0.18493151, 0.00868951, 0.5       , 0.34487952, 0.71902096],\n",
       "       [0.78538813, 0.01214308, 0.8       , 0.37322015, 0.72143563],\n",
       "       [0.40410959, 0.12417035, 0.        , 0.29832968, 0.79585117],\n",
       "       [0.57762557, 0.24171299, 0.3       , 0.33776013, 0.46021293],\n",
       "       [0.90639269, 0.04470202, 0.9       , 0.52861446, 0.70420371],\n",
       "       [0.74429224, 0.64390316, 0.1       , 0.19016977, 0.23202722],\n",
       "       [0.04794521, 0.06327504, 0.5       , 0.46659365, 0.78783888],\n",
       "       [0.49543379, 0.17463258, 0.        , 0.27519168, 0.82263198],\n",
       "       [0.74429224, 0.06995784, 0.7       , 0.38513143, 0.7689606 ],\n",
       "       [0.65296804, 0.02323642, 0.6       , 0.47590361, 0.75952146],\n",
       "       [0.25114155, 0.29646416, 0.2       , 0.30257393, 0.43409066],\n",
       "       [0.87214612, 0.07921947, 0.2       , 0.47138554, 0.64372736],\n",
       "       [0.36757991, 0.12073673, 0.4       , 0.51081599, 0.65283723],\n",
       "       [0.44520548, 0.04048353, 0.9       , 0.53107886, 0.7062891 ],\n",
       "       [0.47716895, 0.336473  , 0.3       , 0.29668675, 0.40840742]])"
      ]
     },
     "execution_count": 58,
     "metadata": {},
     "output_type": "execute_result"
    }
   ],
   "source": [
    "x_test"
   ]
  },
  {
   "cell_type": "code",
   "execution_count": 59,
   "id": "28230546",
   "metadata": {},
   "outputs": [],
   "source": [
    "from tensorflow.keras.models import Sequential\n",
    "from tensorflow.keras.layers import Dense"
   ]
  },
  {
   "cell_type": "code",
   "execution_count": 60,
   "id": "c4766b58",
   "metadata": {},
   "outputs": [],
   "source": [
    "model=Sequential()\n",
    "model.add(Dense(50,activation=\"relu\"))\n",
    "model.add(Dense(45,activation=\"relu\"))\n",
    "model.add(Dense(40,activation=\"relu\"))\n",
    "model.add(Dense(35,activation=\"relu\"))\n",
    "model.add(Dense(30,activation=\"relu\"))\n",
    "model.add(Dense(25,activation=\"relu\"))\n",
    "model.add(Dense(20,activation=\"relu\"))\n",
    "model.add(Dense(15,activation=\"relu\"))\n",
    "model.add(Dense(10,activation=\"relu\"))\n",
    "model.add(Dense(5,activation=\"relu\"))\n",
    "model.add(Dense(1))\n",
    "model.compile(optimizer=\"adam\", loss=\"mse\")"
   ]
  },
  {
   "cell_type": "code",
   "execution_count": 61,
   "id": "0085cf7e",
   "metadata": {},
   "outputs": [
    {
     "name": "stdout",
     "output_type": "stream",
     "text": [
      "Epoch 1/100\n",
      "6/6 [==============================] - 3s 126ms/step - loss: 1528.9127 - val_loss: 1626.0253\n",
      "Epoch 2/100\n",
      "6/6 [==============================] - 0s 14ms/step - loss: 1518.3640 - val_loss: 1613.1807\n",
      "Epoch 3/100\n",
      "6/6 [==============================] - 0s 14ms/step - loss: 1502.4838 - val_loss: 1591.2640\n",
      "Epoch 4/100\n",
      "6/6 [==============================] - 0s 15ms/step - loss: 1473.0742 - val_loss: 1549.7021\n",
      "Epoch 5/100\n",
      "6/6 [==============================] - 0s 14ms/step - loss: 1415.7457 - val_loss: 1465.3358\n",
      "Epoch 6/100\n",
      "6/6 [==============================] - 0s 14ms/step - loss: 1299.5630 - val_loss: 1293.7346\n",
      "Epoch 7/100\n",
      "6/6 [==============================] - 0s 14ms/step - loss: 1069.8948 - val_loss: 963.7183\n",
      "Epoch 8/100\n",
      "6/6 [==============================] - 0s 15ms/step - loss: 660.7421 - val_loss: 441.6316\n",
      "Epoch 9/100\n",
      "6/6 [==============================] - 0s 14ms/step - loss: 194.2572 - val_loss: 143.6035\n",
      "Epoch 10/100\n",
      "6/6 [==============================] - 0s 13ms/step - loss: 210.3506 - val_loss: 145.2185\n",
      "Epoch 11/100\n",
      "6/6 [==============================] - 0s 15ms/step - loss: 121.5830 - val_loss: 156.7265\n",
      "Epoch 12/100\n",
      "6/6 [==============================] - 0s 16ms/step - loss: 115.7266 - val_loss: 183.1862\n",
      "Epoch 13/100\n",
      "6/6 [==============================] - 0s 14ms/step - loss: 110.1916 - val_loss: 130.3339\n",
      "Epoch 14/100\n",
      "6/6 [==============================] - 0s 14ms/step - loss: 91.8822 - val_loss: 107.9297\n",
      "Epoch 15/100\n",
      "6/6 [==============================] - 0s 15ms/step - loss: 90.9242 - val_loss: 107.5340\n",
      "Epoch 16/100\n",
      "6/6 [==============================] - 0s 13ms/step - loss: 82.5161 - val_loss: 117.6287\n",
      "Epoch 17/100\n",
      "6/6 [==============================] - 0s 15ms/step - loss: 83.0170 - val_loss: 113.7449\n",
      "Epoch 18/100\n",
      "6/6 [==============================] - 0s 17ms/step - loss: 79.4580 - val_loss: 99.0152\n",
      "Epoch 19/100\n",
      "6/6 [==============================] - 0s 16ms/step - loss: 75.8184 - val_loss: 93.5549\n",
      "Epoch 20/100\n",
      "6/6 [==============================] - 0s 16ms/step - loss: 73.1918 - val_loss: 91.6533\n",
      "Epoch 21/100\n",
      "6/6 [==============================] - 0s 16ms/step - loss: 70.6777 - val_loss: 91.2032\n",
      "Epoch 22/100\n",
      "6/6 [==============================] - 0s 15ms/step - loss: 68.0169 - val_loss: 85.1724\n",
      "Epoch 23/100\n",
      "6/6 [==============================] - 0s 15ms/step - loss: 65.5346 - val_loss: 81.7176\n",
      "Epoch 24/100\n",
      "6/6 [==============================] - 0s 14ms/step - loss: 63.5880 - val_loss: 80.8783\n",
      "Epoch 25/100\n",
      "6/6 [==============================] - 0s 15ms/step - loss: 61.5109 - val_loss: 76.9004\n",
      "Epoch 26/100\n",
      "6/6 [==============================] - 0s 15ms/step - loss: 59.9842 - val_loss: 75.1443\n",
      "Epoch 27/100\n",
      "6/6 [==============================] - 0s 13ms/step - loss: 58.6076 - val_loss: 72.7951\n",
      "Epoch 28/100\n",
      "6/6 [==============================] - 0s 15ms/step - loss: 57.1723 - val_loss: 74.1691\n",
      "Epoch 29/100\n",
      "6/6 [==============================] - 0s 14ms/step - loss: 56.1354 - val_loss: 74.7189\n",
      "Epoch 30/100\n",
      "6/6 [==============================] - 0s 15ms/step - loss: 55.6230 - val_loss: 69.5602\n",
      "Epoch 31/100\n",
      "6/6 [==============================] - 0s 17ms/step - loss: 54.4992 - val_loss: 69.9048\n",
      "Epoch 32/100\n",
      "6/6 [==============================] - 0s 14ms/step - loss: 53.7029 - val_loss: 72.3659\n",
      "Epoch 33/100\n",
      "6/6 [==============================] - 0s 14ms/step - loss: 53.2567 - val_loss: 71.6603\n",
      "Epoch 34/100\n",
      "6/6 [==============================] - 0s 15ms/step - loss: 52.7331 - val_loss: 70.0077\n",
      "Epoch 35/100\n",
      "6/6 [==============================] - 0s 13ms/step - loss: 52.3174 - val_loss: 69.5475\n",
      "Epoch 36/100\n",
      "6/6 [==============================] - 0s 14ms/step - loss: 51.8082 - val_loss: 72.8699\n",
      "Epoch 37/100\n",
      "6/6 [==============================] - 0s 17ms/step - loss: 51.4306 - val_loss: 69.1442\n",
      "Epoch 38/100\n",
      "6/6 [==============================] - 0s 13ms/step - loss: 50.7679 - val_loss: 67.8056\n",
      "Epoch 39/100\n",
      "6/6 [==============================] - 0s 16ms/step - loss: 50.4020 - val_loss: 71.0982\n",
      "Epoch 40/100\n",
      "6/6 [==============================] - 0s 15ms/step - loss: 50.0379 - val_loss: 68.3898\n",
      "Epoch 41/100\n",
      "6/6 [==============================] - 0s 14ms/step - loss: 49.5863 - val_loss: 67.1140\n",
      "Epoch 42/100\n",
      "6/6 [==============================] - 0s 15ms/step - loss: 49.2635 - val_loss: 66.8275\n",
      "Epoch 43/100\n",
      "6/6 [==============================] - 0s 17ms/step - loss: 48.8796 - val_loss: 69.2642\n",
      "Epoch 44/100\n",
      "6/6 [==============================] - 0s 17ms/step - loss: 48.9273 - val_loss: 66.9462\n",
      "Epoch 45/100\n",
      "6/6 [==============================] - 0s 13ms/step - loss: 48.0176 - val_loss: 71.1287\n",
      "Epoch 46/100\n",
      "6/6 [==============================] - 0s 14ms/step - loss: 48.0632 - val_loss: 67.1918\n",
      "Epoch 47/100\n",
      "6/6 [==============================] - 0s 15ms/step - loss: 47.6465 - val_loss: 67.7783\n",
      "Epoch 48/100\n",
      "6/6 [==============================] - 0s 18ms/step - loss: 47.1128 - val_loss: 69.7069\n",
      "Epoch 49/100\n",
      "6/6 [==============================] - 0s 13ms/step - loss: 46.7815 - val_loss: 65.5978\n",
      "Epoch 50/100\n",
      "6/6 [==============================] - 0s 14ms/step - loss: 46.4431 - val_loss: 70.8692\n",
      "Epoch 51/100\n",
      "6/6 [==============================] - 0s 14ms/step - loss: 46.5028 - val_loss: 66.8748\n",
      "Epoch 52/100\n",
      "6/6 [==============================] - 0s 15ms/step - loss: 45.9511 - val_loss: 68.5783\n",
      "Epoch 53/100\n",
      "6/6 [==============================] - 0s 15ms/step - loss: 45.4262 - val_loss: 67.0748\n",
      "Epoch 54/100\n",
      "6/6 [==============================] - 0s 18ms/step - loss: 45.2146 - val_loss: 68.2004\n",
      "Epoch 55/100\n",
      "6/6 [==============================] - 0s 15ms/step - loss: 45.1457 - val_loss: 70.8224\n",
      "Epoch 56/100\n",
      "6/6 [==============================] - 0s 15ms/step - loss: 44.3156 - val_loss: 62.6336\n",
      "Epoch 57/100\n",
      "6/6 [==============================] - 0s 15ms/step - loss: 44.4168 - val_loss: 71.4368\n",
      "Epoch 58/100\n",
      "6/6 [==============================] - 0s 12ms/step - loss: 44.9083 - val_loss: 70.1116\n",
      "Epoch 59/100\n",
      "6/6 [==============================] - 0s 16ms/step - loss: 43.8500 - val_loss: 64.2142\n",
      "Epoch 60/100\n",
      "6/6 [==============================] - 0s 18ms/step - loss: 43.6797 - val_loss: 70.9600\n",
      "Epoch 61/100\n",
      "6/6 [==============================] - 0s 15ms/step - loss: 43.5667 - val_loss: 66.8531\n",
      "Epoch 62/100\n",
      "6/6 [==============================] - 0s 18ms/step - loss: 43.0922 - val_loss: 63.9828\n",
      "Epoch 63/100\n",
      "6/6 [==============================] - 0s 17ms/step - loss: 43.3064 - val_loss: 69.5235\n",
      "Epoch 64/100\n",
      "6/6 [==============================] - 0s 15ms/step - loss: 42.8570 - val_loss: 66.8440\n",
      "Epoch 65/100\n",
      "6/6 [==============================] - 0s 16ms/step - loss: 42.5502 - val_loss: 66.1161\n",
      "Epoch 66/100\n",
      "6/6 [==============================] - 0s 17ms/step - loss: 42.8496 - val_loss: 68.9572\n",
      "Epoch 67/100\n",
      "6/6 [==============================] - 0s 16ms/step - loss: 42.2946 - val_loss: 72.7606\n",
      "Epoch 68/100\n",
      "6/6 [==============================] - 0s 13ms/step - loss: 42.3418 - val_loss: 64.4199\n",
      "Epoch 69/100\n",
      "6/6 [==============================] - 0s 15ms/step - loss: 41.8741 - val_loss: 69.6629\n",
      "Epoch 70/100\n",
      "6/6 [==============================] - 0s 16ms/step - loss: 42.2858 - val_loss: 67.5098\n",
      "Epoch 71/100\n",
      "6/6 [==============================] - 0s 16ms/step - loss: 42.2121 - val_loss: 64.9646\n",
      "Epoch 72/100\n",
      "6/6 [==============================] - 0s 15ms/step - loss: 41.7681 - val_loss: 67.4834\n",
      "Epoch 73/100\n",
      "6/6 [==============================] - 0s 13ms/step - loss: 41.4117 - val_loss: 66.5490\n",
      "Epoch 74/100\n",
      "6/6 [==============================] - 0s 15ms/step - loss: 41.2661 - val_loss: 72.2871\n",
      "Epoch 75/100\n",
      "6/6 [==============================] - 0s 14ms/step - loss: 41.9820 - val_loss: 66.5511\n",
      "Epoch 76/100\n",
      "6/6 [==============================] - 0s 18ms/step - loss: 41.0142 - val_loss: 69.2081\n",
      "Epoch 77/100\n",
      "6/6 [==============================] - 0s 18ms/step - loss: 40.8944 - val_loss: 65.6998\n",
      "Epoch 78/100\n",
      "6/6 [==============================] - 0s 14ms/step - loss: 41.2156 - val_loss: 67.9799\n",
      "Epoch 79/100\n",
      "6/6 [==============================] - 0s 14ms/step - loss: 41.8563 - val_loss: 71.1019\n",
      "Epoch 80/100\n",
      "6/6 [==============================] - 0s 14ms/step - loss: 41.0239 - val_loss: 64.8994\n",
      "Epoch 81/100\n",
      "6/6 [==============================] - 0s 15ms/step - loss: 40.9288 - val_loss: 67.3199\n"
     ]
    },
    {
     "name": "stdout",
     "output_type": "stream",
     "text": [
      "Epoch 82/100\n",
      "6/6 [==============================] - 0s 16ms/step - loss: 41.2513 - val_loss: 68.8846\n",
      "Epoch 83/100\n",
      "6/6 [==============================] - 0s 15ms/step - loss: 41.0489 - val_loss: 63.7120\n",
      "Epoch 84/100\n",
      "6/6 [==============================] - 0s 15ms/step - loss: 41.0624 - val_loss: 72.8299\n",
      "Epoch 85/100\n",
      "6/6 [==============================] - 0s 14ms/step - loss: 40.4981 - val_loss: 63.4905\n",
      "Epoch 86/100\n",
      "6/6 [==============================] - 0s 14ms/step - loss: 40.5299 - val_loss: 69.0610\n",
      "Epoch 87/100\n",
      "6/6 [==============================] - 0s 15ms/step - loss: 42.3076 - val_loss: 68.7556\n",
      "Epoch 88/100\n",
      "6/6 [==============================] - 0s 16ms/step - loss: 40.6867 - val_loss: 62.8609\n",
      "Epoch 89/100\n",
      "6/6 [==============================] - 0s 17ms/step - loss: 40.5912 - val_loss: 72.0126\n",
      "Epoch 90/100\n",
      "6/6 [==============================] - 0s 14ms/step - loss: 40.5469 - val_loss: 64.6440\n",
      "Epoch 91/100\n",
      "6/6 [==============================] - 0s 15ms/step - loss: 39.8526 - val_loss: 71.0109\n",
      "Epoch 92/100\n",
      "6/6 [==============================] - 0s 18ms/step - loss: 40.2979 - val_loss: 66.3647\n",
      "Epoch 93/100\n",
      "6/6 [==============================] - 0s 16ms/step - loss: 39.7127 - val_loss: 67.0623\n",
      "Epoch 94/100\n",
      "6/6 [==============================] - 0s 16ms/step - loss: 39.6947 - val_loss: 65.3735\n",
      "Epoch 95/100\n",
      "6/6 [==============================] - 0s 17ms/step - loss: 39.6378 - val_loss: 66.8008\n",
      "Epoch 96/100\n",
      "6/6 [==============================] - 0s 17ms/step - loss: 40.0916 - val_loss: 66.9023\n",
      "Epoch 97/100\n",
      "6/6 [==============================] - 0s 17ms/step - loss: 39.4633 - val_loss: 63.2124\n",
      "Epoch 98/100\n",
      "6/6 [==============================] - 0s 18ms/step - loss: 39.5664 - val_loss: 67.7896\n",
      "Epoch 99/100\n",
      "6/6 [==============================] - 0s 17ms/step - loss: 40.2883 - val_loss: 63.7442\n",
      "Epoch 100/100\n",
      "6/6 [==============================] - 0s 17ms/step - loss: 39.6309 - val_loss: 65.5226\n"
     ]
    },
    {
     "data": {
      "text/plain": [
       "<keras.callbacks.History at 0x288b2c91cc8>"
      ]
     },
     "execution_count": 61,
     "metadata": {},
     "output_type": "execute_result"
    }
   ],
   "source": [
    "model.fit(x=x_train,y=y_train, validation_data=(x_test,y_test),batch_size=50 , epochs=100)"
   ]
  },
  {
   "cell_type": "code",
   "execution_count": 62,
   "id": "d5097039",
   "metadata": {},
   "outputs": [],
   "source": [
    "loss=pd.DataFrame(model.history.history)"
   ]
  },
  {
   "cell_type": "code",
   "execution_count": 63,
   "id": "ab100c59",
   "metadata": {},
   "outputs": [
    {
     "data": {
      "text/plain": [
       "<AxesSubplot:>"
      ]
     },
     "execution_count": 63,
     "metadata": {},
     "output_type": "execute_result"
    },
    {
     "data": {
      "image/png": "[encoded data removed]",
      "text/plain": [
       "<Figure size 640x480 with 1 Axes>"
      ]
     },
     "metadata": {},
     "output_type": "display_data"
    }
   ],
   "source": [
    "loss.plot()"
   ]
  },
  {
   "cell_type": "code",
   "execution_count": 65,
   "id": "46cc10b3",
   "metadata": {},
   "outputs": [
    {
     "name": "stdout",
     "output_type": "stream",
     "text": [
      "5/5 [==============================] - 0s 3ms/step\n"
     ]
    }
   ],
   "source": [
    "deney=model.predict(x_test)"
   ]
  },
  {
   "cell_type": "code",
   "execution_count": 83,
   "id": "13859515",
   "metadata": {},
   "outputs": [],
   "source": [
    "from sklearn.metrics import mean_absolute_error"
   ]
  },
  {
   "cell_type": "code",
   "execution_count": 84,
   "id": "32cd3447",
   "metadata": {},
   "outputs": [
    {
     "data": {
      "text/plain": [
       "6.2808296736548925"
      ]
     },
     "execution_count": 84,
     "metadata": {},
     "output_type": "execute_result"
    }
   ],
   "source": [
    "mean_absolute_error(y_test,deney)"
   ]
  },
  {
   "cell_type": "code",
   "execution_count": 69,
   "id": "d712c90d",
   "metadata": {},
   "outputs": [
    {
     "data": {
      "text/plain": [
       "[<matplotlib.lines.Line2D at 0x288b58f1448>]"
      ]
     },
     "execution_count": 69,
     "metadata": {},
     "output_type": "execute_result"
    },
    {
     "data": {
      "image/png": "[encoded data removed]",
      "text/plain": [
       "<Figure size 640x480 with 1 Axes>"
      ]
     },
     "metadata": {},
     "output_type": "display_data"
    }
   ],
   "source": [
    "plt.scatter(y_test,deney)\n",
    "plt.plot(y_test,y_test,\"r-*\")"
   ]
  },
  {
   "cell_type": "code",
   "execution_count": 82,
   "id": "0a1fb107",
   "metadata": {},
   "outputs": [
    {
     "data": {
      "text/plain": [
       "X2 house age                               41.40000\n",
       "X3 distance to the nearest MRT station    281.20500\n",
       "X4 number of convenience stores             8.00000\n",
       "X5 latitude                                24.97345\n",
       "X6 longitude                              121.54093\n",
       "Y house price of unit area                 63.30000\n",
       "Name: 361, dtype: float64"
      ]
     },
     "execution_count": 82,
     "metadata": {},
     "output_type": "execute_result"
    }
   ],
   "source": [
    "veri=df.iloc[5]\n",
    "veri"
   ]
  },
  {
   "cell_type": "code",
   "execution_count": 79,
   "id": "a6547d2e",
   "metadata": {},
   "outputs": [
    {
     "data": {
      "text/plain": [
       "X2 house age                               41.40000\n",
       "X3 distance to the nearest MRT station    281.20500\n",
       "X4 number of convenience stores             8.00000\n",
       "X5 latitude                                24.97345\n",
       "X6 longitude                              121.54093\n",
       "Name: 361, dtype: float64"
      ]
     },
     "execution_count": 79,
     "metadata": {},
     "output_type": "execute_result"
    }
   ],
   "source": [
    "veri=df.drop(\"Y house price of unit area\",axis=1).iloc[5]\n",
    "veri"
   ]
  },
  {
   "cell_type": "code",
   "execution_count": 80,
   "id": "a5bd2de9",
   "metadata": {},
   "outputs": [
    {
     "data": {
      "text/plain": [
       "array([[0.94520548, 0.03648302, 0.8       , 0.43674699, 0.72187466]])"
      ]
     },
     "execution_count": 80,
     "metadata": {},
     "output_type": "execute_result"
    }
   ],
   "source": [
    "veri=scaler.transform(veri.values.reshape(-1,5))\n",
    "veri"
   ]
  },
  {
   "cell_type": "code",
   "execution_count": 81,
   "id": "65444adc",
   "metadata": {},
   "outputs": [
    {
     "name": "stdout",
     "output_type": "stream",
     "text": [
      "1/1 [==============================] - 0s 53ms/step\n"
     ]
    },
    {
     "data": {
      "text/plain": [
       "array([[37.46159]], dtype=float32)"
      ]
     },
     "execution_count": 81,
     "metadata": {},
     "output_type": "execute_result"
    }
   ],
   "source": [
    "model.predict(veri)"
   ]
  },
  {
   "cell_type": "code",
   "execution_count": 135,
   "id": "bb587d86",
   "metadata": {},
   "outputs": [
    {
     "data": {
      "text/html": [
       "<div>\n",
       "<style scoped>\n",
       "    .dataframe tbody tr th:only-of-type {\n",
       "        vertical-align: middle;\n",
       "    }\n",
       "\n",
       "    .dataframe tbody tr th {\n",
       "        vertical-align: top;\n",
       "    }\n",
       "\n",
       "    .dataframe thead th {\n",
       "        text-align: right;\n",
       "    }\n",
       "</style>\n",
       "<table border=\"1\" class=\"dataframe\">\n",
       "  <thead>\n",
       "    <tr style=\"text-align: right;\">\n",
       "      <th></th>\n",
       "      <th>X2 house age</th>\n",
       "      <th>X3 distance to the nearest MRT station</th>\n",
       "      <th>X4 number of convenience stores</th>\n",
       "      <th>X5 latitude</th>\n",
       "      <th>X6 longitude</th>\n",
       "      <th>Y house price of unit area</th>\n",
       "    </tr>\n",
       "  </thead>\n",
       "  <tbody>\n",
       "    <tr>\n",
       "      <th>count</th>\n",
       "      <td>410.000000</td>\n",
       "      <td>410.000000</td>\n",
       "      <td>410.000000</td>\n",
       "      <td>410.000000</td>\n",
       "      <td>410.000000</td>\n",
       "      <td>410.000000</td>\n",
       "    </tr>\n",
       "    <tr>\n",
       "      <th>mean</th>\n",
       "      <td>17.681951</td>\n",
       "      <td>1091.897697</td>\n",
       "      <td>4.073171</td>\n",
       "      <td>24.968972</td>\n",
       "      <td>121.533300</td>\n",
       "      <td>37.503415</td>\n",
       "    </tr>\n",
       "    <tr>\n",
       "      <th>std</th>\n",
       "      <td>11.334892</td>\n",
       "      <td>1265.628248</td>\n",
       "      <td>2.934411</td>\n",
       "      <td>0.012454</td>\n",
       "      <td>0.015400</td>\n",
       "      <td>12.659615</td>\n",
       "    </tr>\n",
       "    <tr>\n",
       "      <th>min</th>\n",
       "      <td>0.000000</td>\n",
       "      <td>23.382840</td>\n",
       "      <td>0.000000</td>\n",
       "      <td>24.932070</td>\n",
       "      <td>121.473530</td>\n",
       "      <td>7.600000</td>\n",
       "    </tr>\n",
       "    <tr>\n",
       "      <th>25%</th>\n",
       "      <td>9.025000</td>\n",
       "      <td>289.324800</td>\n",
       "      <td>1.000000</td>\n",
       "      <td>24.962990</td>\n",
       "      <td>121.527600</td>\n",
       "      <td>27.400000</td>\n",
       "    </tr>\n",
       "    <tr>\n",
       "      <th>50%</th>\n",
       "      <td>16.100000</td>\n",
       "      <td>492.231300</td>\n",
       "      <td>4.000000</td>\n",
       "      <td>24.971100</td>\n",
       "      <td>121.538630</td>\n",
       "      <td>38.350000</td>\n",
       "    </tr>\n",
       "    <tr>\n",
       "      <th>75%</th>\n",
       "      <td>27.900000</td>\n",
       "      <td>1455.798000</td>\n",
       "      <td>6.000000</td>\n",
       "      <td>24.977828</td>\n",
       "      <td>121.543305</td>\n",
       "      <td>46.175000</td>\n",
       "    </tr>\n",
       "    <tr>\n",
       "      <th>max</th>\n",
       "      <td>43.800000</td>\n",
       "      <td>6488.021000</td>\n",
       "      <td>10.000000</td>\n",
       "      <td>25.014590</td>\n",
       "      <td>121.566270</td>\n",
       "      <td>71.000000</td>\n",
       "    </tr>\n",
       "  </tbody>\n",
       "</table>\n",
       "</div>"
      ],
      "text/plain": [
       "       X2 house age  X3 distance to the nearest MRT station  \\\n",
       "count    410.000000                              410.000000   \n",
       "mean      17.681951                             1091.897697   \n",
       "std       11.334892                             1265.628248   \n",
       "min        0.000000                               23.382840   \n",
       "25%        9.025000                              289.324800   \n",
       "50%       16.100000                              492.231300   \n",
       "75%       27.900000                             1455.798000   \n",
       "max       43.800000                             6488.021000   \n",
       "\n",
       "       X4 number of convenience stores  X5 latitude  X6 longitude  \\\n",
       "count                       410.000000   410.000000    410.000000   \n",
       "mean                          4.073171    24.968972    121.533300   \n",
       "std                           2.934411     0.012454      0.015400   \n",
       "min                           0.000000    24.932070    121.473530   \n",
       "25%                           1.000000    24.962990    121.527600   \n",
       "50%                           4.000000    24.971100    121.538630   \n",
       "75%                           6.000000    24.977828    121.543305   \n",
       "max                          10.000000    25.014590    121.566270   \n",
       "\n",
       "       Y house price of unit area  \n",
       "count                  410.000000  \n",
       "mean                    37.503415  \n",
       "std                     12.659615  \n",
       "min                      7.600000  \n",
       "25%                     27.400000  \n",
       "50%                     38.350000  \n",
       "75%                     46.175000  \n",
       "max                     71.000000  "
      ]
     },
     "execution_count": 135,
     "metadata": {},
     "output_type": "execute_result"
    }
   ],
   "source": [
    "df.describe()"
   ]
  },
  {
   "cell_type": "code",
   "execution_count": 218,
   "id": "d8cfda6f",
   "metadata": {},
   "outputs": [
    {
     "data": {
      "text/html": [
       "<div>\n",
       "<style scoped>\n",
       "    .dataframe tbody tr th:only-of-type {\n",
       "        vertical-align: middle;\n",
       "    }\n",
       "\n",
       "    .dataframe tbody tr th {\n",
       "        vertical-align: top;\n",
       "    }\n",
       "\n",
       "    .dataframe thead th {\n",
       "        text-align: right;\n",
       "    }\n",
       "</style>\n",
       "<table border=\"1\" class=\"dataframe\">\n",
       "  <thead>\n",
       "    <tr style=\"text-align: right;\">\n",
       "      <th></th>\n",
       "      <th>Actual value</th>\n",
       "      <th>Predicted value</th>\n",
       "    </tr>\n",
       "  </thead>\n",
       "  <tbody>\n",
       "    <tr>\n",
       "      <th>0</th>\n",
       "      <td>40.6</td>\n",
       "      <td>34.685101</td>\n",
       "    </tr>\n",
       "    <tr>\n",
       "      <th>1</th>\n",
       "      <td>42.7</td>\n",
       "      <td>37.020695</td>\n",
       "    </tr>\n",
       "    <tr>\n",
       "      <th>2</th>\n",
       "      <td>43.8</td>\n",
       "      <td>32.924313</td>\n",
       "    </tr>\n",
       "    <tr>\n",
       "      <th>3</th>\n",
       "      <td>47.0</td>\n",
       "      <td>40.959858</td>\n",
       "    </tr>\n",
       "    <tr>\n",
       "      <th>4</th>\n",
       "      <td>49.5</td>\n",
       "      <td>46.465931</td>\n",
       "    </tr>\n",
       "    <tr>\n",
       "      <th>...</th>\n",
       "      <td>...</td>\n",
       "      <td>...</td>\n",
       "    </tr>\n",
       "    <tr>\n",
       "      <th>131</th>\n",
       "      <td>21.3</td>\n",
       "      <td>22.449902</td>\n",
       "    </tr>\n",
       "    <tr>\n",
       "      <th>132</th>\n",
       "      <td>29.8</td>\n",
       "      <td>34.703037</td>\n",
       "    </tr>\n",
       "    <tr>\n",
       "      <th>133</th>\n",
       "      <td>35.6</td>\n",
       "      <td>33.514736</td>\n",
       "    </tr>\n",
       "    <tr>\n",
       "      <th>134</th>\n",
       "      <td>42.2</td>\n",
       "      <td>41.199940</td>\n",
       "    </tr>\n",
       "    <tr>\n",
       "      <th>135</th>\n",
       "      <td>25.7</td>\n",
       "      <td>22.810116</td>\n",
       "    </tr>\n",
       "  </tbody>\n",
       "</table>\n",
       "<p>136 rows × 2 columns</p>\n",
       "</div>"
      ],
      "text/plain": [
       "     Actual value  Predicted value\n",
       "0            40.6        34.685101\n",
       "1            42.7        37.020695\n",
       "2            43.8        32.924313\n",
       "3            47.0        40.959858\n",
       "4            49.5        46.465931\n",
       "..            ...              ...\n",
       "131          21.3        22.449902\n",
       "132          29.8        34.703037\n",
       "133          35.6        33.514736\n",
       "134          42.2        41.199940\n",
       "135          25.7        22.810116\n",
       "\n",
       "[136 rows x 2 columns]"
      ]
     },
     "execution_count": 218,
     "metadata": {},
     "output_type": "execute_result"
    }
   ],
   "source": [
    "reg_model_diff = pd.DataFrame({'Actual value': y_test.ravel(), 'Predicted value': deney.ravel()})\n",
    "reg_model_diff"
   ]
  },
  {
   "cell_type": "code",
   "execution_count": null,
   "id": "f07a0374",
   "metadata": {},
   "outputs": [],
   "source": []
  }
 ],
 "metadata": {
  "kernelspec": {
   "display_name": "Python 3 (ipykernel)",
   "language": "python",
   "name": "python3"
  },
  "language_info": {
   "codemirror_mode": {
    "name": "ipython",
    "version": 3
   },
   "file_extension": ".py",
   "mimetype": "text/x-python",
   "name": "python",
   "nbconvert_exporter": "python",
   "pygments_lexer": "ipython3",
   "version": "3.7.16"
  }
 },
 "nbformat": 4,
 "nbformat_minor": 5
}
